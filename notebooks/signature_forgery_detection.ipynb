{
  "cells": [
    {
      "cell_type": "code",
      "execution_count": 9,
      "metadata": {
        "id": "wMTOqmRQL01i"
      },
      "outputs": [],
      "source": [
        "import cv2\n",
        "import os\n",
        "import matplotlib.pyplot as plt\n",
        "import numpy as np\n",
        "\n",
        "from sklearn.svm import SVC\n",
        "from sklearn.model_selection import train_test_split\n",
        "from sklearn.metrics import accuracy_score, classification_report\n",
        "from skimage.feature import hog\n",
        "\n",
        "from joblib import dump, load"
      ]
    },
    {
      "cell_type": "code",
      "execution_count": 10,
      "metadata": {
        "id": "P3ICtv8pPiFO"
      },
      "outputs": [
        {
          "name": "stdout",
          "output_type": "stream",
          "text": [
            "/home/matteo/Repos/signature-forgery-detection/signatures\n",
            "/home/matteo/Repos/signature-forgery-detection/\n"
          ]
        }
      ],
      "source": [
        "signatures_path = os.path.join(str(globals()['_dh'][0]).replace(\"notebooks\", \"\"), \"signatures\")\n",
        "print(signatures_path)\n",
        "parent_path = str(globals()['_dh'][0]).replace(\"notebooks\", \"\")\n",
        "print(parent_path)"
      ]
    },
    {
      "cell_type": "code",
      "execution_count": 11,
      "metadata": {
        "id": "mlk-xAnG9W0D"
      },
      "outputs": [],
      "source": [
        "def pre_process(img_path):\n",
        "  \n",
        "  img = cv2.imread(img_path, cv2.IMREAD_GRAYSCALE)\n",
        "  img_resized = cv2.resize(img, (500, 300))\n",
        "  img_normalized = img_resized / 255\n",
        "\n",
        "  return img_normalized"
      ]
    },
    {
      "cell_type": "code",
      "execution_count": 12,
      "metadata": {},
      "outputs": [],
      "source": [
        "def extract_features(img):\n",
        "\n",
        "    hog_features, _ = hog(img, orientations = 8, pixels_per_cell = (16,16), cells_per_block = (1,1), visualize = True)\n",
        "    \n",
        "    return hog_features"
      ]
    },
    {
      "cell_type": "code",
      "execution_count": 19,
      "metadata": {},
      "outputs": [],
      "source": [
        "def prepare_data(signatures_path):\n",
        "    features = []\n",
        "    labels_individuals = []\n",
        "    labels_binary = []\n",
        "\n",
        "    for person_folder in os.listdir(signatures_path):\n",
        "        if os.path.isdir(os.path.join(signatures_path, person_folder)):\n",
        "            labels_individuals.append(person_folder)\n",
        "            for signature_file in os.listdir(os.path.join(signatures_path, person_folder)):\n",
        "                if signature_file.endswith(\".png\"):\n",
        "                    image_path = os.path.join(signatures_path, person_folder, signature_file)\n",
        "                    preprocessed_image = pre_process(image_path)\n",
        "                    features.append(extract_features(preprocessed_image))\n",
        "                    labels_binary.append(1 if person_folder == \"original\" else 0)\n",
        "    \n",
        "    return np.array(features), np.array(labels_individuals), np.array(labels_binary)"
      ]
    },
    {
      "cell_type": "code",
      "execution_count": 21,
      "metadata": {},
      "outputs": [
        {
          "name": "stdout",
          "output_type": "stream",
          "text": [
            "(0,)\n",
            "['signatures_18' 'signatures_44' 'signatures_42' 'signatures_5'\n",
            " 'signatures_40' 'signatures_37' 'signatures_36' 'signatures_17'\n",
            " 'signatures_41' 'signatures_39' 'signatures_26' 'signatures_21'\n",
            " 'signatures_23' 'signatures_32' 'signatures_6' 'signatures_33'\n",
            " 'signatures_11' 'signatures_38' 'signatures_47' 'signatures_34'\n",
            " 'signatures_8' 'signatures_46' 'signatures_19' 'signatures_49'\n",
            " 'signatures_45' 'signatures_20' 'signatures_51' 'signatures_27'\n",
            " 'signatures_12' 'signatures_16' 'signatures_2' 'signatures_25'\n",
            " 'signatures_31' 'signatures_48' 'signatures_50' 'signatures_14'\n",
            " 'signatures_29' 'signatures_9' 'signatures_53' 'signatures_52'\n",
            " 'signatures_35' 'signatures_24' 'signatures_7' 'signatures_13'\n",
            " 'signatures_10' 'signatures_43' 'signatures_1' 'signatures_3'\n",
            " 'signatures_4' 'signatures_22' 'signatures_30' 'signatures_55'\n",
            " 'signatures_15' 'signatures_54' 'signatures_28']\n",
            "(0,)\n"
          ]
        }
      ],
      "source": [
        "signatures_path = os.path.join(str(globals()['_dh'][0]).replace(\"notebooks\", \"\"), \"signatures\")\n",
        "features, labels_individuals, labels_binary = prepare_data(signatures_path)\n",
        "\n",
        "print(features.shape)\n",
        "print(labels_individuals)\n",
        "print(labels_binary.shape)"
      ]
    },
    {
      "cell_type": "code",
      "execution_count": 15,
      "metadata": {},
      "outputs": [
        {
          "ename": "ValueError",
          "evalue": "Found input variables with inconsistent numbers of samples: [0, 55]",
          "output_type": "error",
          "traceback": [
            "\u001b[0;31m---------------------------------------------------------------------------\u001b[0m",
            "\u001b[0;31mValueError\u001b[0m                                Traceback (most recent call last)",
            "Cell \u001b[0;32mIn[15], line 3\u001b[0m\n\u001b[1;32m      1\u001b[0m \u001b[38;5;66;03m# SVM FOR SIGNATURE RECOGNITION\u001b[39;00m\n\u001b[0;32m----> 3\u001b[0m X_train, X_test, y_train, y_test \u001b[38;5;241m=\u001b[39m \u001b[43mtrain_test_split\u001b[49m\u001b[43m(\u001b[49m\u001b[43mfeatures\u001b[49m\u001b[43m,\u001b[49m\u001b[43m \u001b[49m\u001b[43mlabels_individuals\u001b[49m\u001b[43m,\u001b[49m\u001b[43m \u001b[49m\u001b[43mtest_size\u001b[49m\u001b[43m \u001b[49m\u001b[38;5;241;43m=\u001b[39;49m\u001b[43m \u001b[49m\u001b[38;5;241;43m0.3\u001b[39;49m\u001b[43m,\u001b[49m\u001b[43m \u001b[49m\u001b[43mrandom_state\u001b[49m\u001b[43m \u001b[49m\u001b[38;5;241;43m=\u001b[39;49m\u001b[43m \u001b[49m\u001b[38;5;241;43m42\u001b[39;49m\u001b[43m)\u001b[49m\n\u001b[1;32m      5\u001b[0m svm_recognition \u001b[38;5;241m=\u001b[39m SVC(kernel \u001b[38;5;241m=\u001b[39m \u001b[38;5;124m\"\u001b[39m\u001b[38;5;124mrbf\u001b[39m\u001b[38;5;124m\"\u001b[39m)\n\u001b[1;32m      6\u001b[0m svm_recognition\u001b[38;5;241m.\u001b[39mfit(X_train, y_train)\n",
            "File \u001b[0;32m~/anaconda3/envs/signature-forgery-detection/lib/python3.11/site-packages/sklearn/model_selection/_split.py:2559\u001b[0m, in \u001b[0;36mtrain_test_split\u001b[0;34m(test_size, train_size, random_state, shuffle, stratify, *arrays)\u001b[0m\n\u001b[1;32m   2556\u001b[0m \u001b[38;5;28;01mif\u001b[39;00m n_arrays \u001b[38;5;241m==\u001b[39m \u001b[38;5;241m0\u001b[39m:\n\u001b[1;32m   2557\u001b[0m     \u001b[38;5;28;01mraise\u001b[39;00m \u001b[38;5;167;01mValueError\u001b[39;00m(\u001b[38;5;124m\"\u001b[39m\u001b[38;5;124mAt least one array required as input\u001b[39m\u001b[38;5;124m\"\u001b[39m)\n\u001b[0;32m-> 2559\u001b[0m arrays \u001b[38;5;241m=\u001b[39m \u001b[43mindexable\u001b[49m\u001b[43m(\u001b[49m\u001b[38;5;241;43m*\u001b[39;49m\u001b[43marrays\u001b[49m\u001b[43m)\u001b[49m\n\u001b[1;32m   2561\u001b[0m n_samples \u001b[38;5;241m=\u001b[39m _num_samples(arrays[\u001b[38;5;241m0\u001b[39m])\n\u001b[1;32m   2562\u001b[0m n_train, n_test \u001b[38;5;241m=\u001b[39m _validate_shuffle_split(\n\u001b[1;32m   2563\u001b[0m     n_samples, test_size, train_size, default_test_size\u001b[38;5;241m=\u001b[39m\u001b[38;5;241m0.25\u001b[39m\n\u001b[1;32m   2564\u001b[0m )\n",
            "File \u001b[0;32m~/anaconda3/envs/signature-forgery-detection/lib/python3.11/site-packages/sklearn/utils/validation.py:443\u001b[0m, in \u001b[0;36mindexable\u001b[0;34m(*iterables)\u001b[0m\n\u001b[1;32m    424\u001b[0m \u001b[38;5;250m\u001b[39m\u001b[38;5;124;03m\"\"\"Make arrays indexable for cross-validation.\u001b[39;00m\n\u001b[1;32m    425\u001b[0m \n\u001b[1;32m    426\u001b[0m \u001b[38;5;124;03mChecks consistent length, passes through None, and ensures that everything\u001b[39;00m\n\u001b[0;32m   (...)\u001b[0m\n\u001b[1;32m    439\u001b[0m \u001b[38;5;124;03m    sparse matrix, or dataframe) or `None`.\u001b[39;00m\n\u001b[1;32m    440\u001b[0m \u001b[38;5;124;03m\"\"\"\u001b[39;00m\n\u001b[1;32m    442\u001b[0m result \u001b[38;5;241m=\u001b[39m [_make_indexable(X) \u001b[38;5;28;01mfor\u001b[39;00m X \u001b[38;5;129;01min\u001b[39;00m iterables]\n\u001b[0;32m--> 443\u001b[0m \u001b[43mcheck_consistent_length\u001b[49m\u001b[43m(\u001b[49m\u001b[38;5;241;43m*\u001b[39;49m\u001b[43mresult\u001b[49m\u001b[43m)\u001b[49m\n\u001b[1;32m    444\u001b[0m \u001b[38;5;28;01mreturn\u001b[39;00m result\n",
            "File \u001b[0;32m~/anaconda3/envs/signature-forgery-detection/lib/python3.11/site-packages/sklearn/utils/validation.py:397\u001b[0m, in \u001b[0;36mcheck_consistent_length\u001b[0;34m(*arrays)\u001b[0m\n\u001b[1;32m    395\u001b[0m uniques \u001b[38;5;241m=\u001b[39m np\u001b[38;5;241m.\u001b[39munique(lengths)\n\u001b[1;32m    396\u001b[0m \u001b[38;5;28;01mif\u001b[39;00m \u001b[38;5;28mlen\u001b[39m(uniques) \u001b[38;5;241m>\u001b[39m \u001b[38;5;241m1\u001b[39m:\n\u001b[0;32m--> 397\u001b[0m     \u001b[38;5;28;01mraise\u001b[39;00m \u001b[38;5;167;01mValueError\u001b[39;00m(\n\u001b[1;32m    398\u001b[0m         \u001b[38;5;124m\"\u001b[39m\u001b[38;5;124mFound input variables with inconsistent numbers of samples: \u001b[39m\u001b[38;5;132;01m%r\u001b[39;00m\u001b[38;5;124m\"\u001b[39m\n\u001b[1;32m    399\u001b[0m         \u001b[38;5;241m%\u001b[39m [\u001b[38;5;28mint\u001b[39m(l) \u001b[38;5;28;01mfor\u001b[39;00m l \u001b[38;5;129;01min\u001b[39;00m lengths]\n\u001b[1;32m    400\u001b[0m     )\n",
            "\u001b[0;31mValueError\u001b[0m: Found input variables with inconsistent numbers of samples: [0, 55]"
          ]
        }
      ],
      "source": [
        "# SVM FOR SIGNATURE RECOGNITION\n",
        "\n",
        "X_train, X_test, y_train, y_test = train_test_split(features, labels_individuals, test_size = 0.3, random_state = 42)\n",
        "\n",
        "svm_recognition = SVC(kernel = \"rbf\")\n",
        "svm_recognition.fit(X_train, y_train)\n",
        "\n",
        "y_pred = svm_recognition.predict(X_test)\n",
        "print(classification_report(y_test, y_pred))\n",
        "\n",
        "dump(svm_recognition, os.path.join(parent_path, \"models/svm_recognition.joblib\"))\n"
      ]
    },
    {
      "cell_type": "code",
      "execution_count": null,
      "metadata": {},
      "outputs": [],
      "source": [
        "# SVM FOR SIGNATURE VERIFICATION\n",
        "\n",
        "# TO-DO\n"
      ]
    },
    {
      "cell_type": "code",
      "execution_count": null,
      "metadata": {
        "id": "hbV1E3mPVq6D"
      },
      "outputs": [],
      "source": [
        "images_array = []\n",
        "targets_array = []\n",
        "\n",
        "for cls in classes:\n",
        "\n",
        "  print(f\"Loading class {cls}\")\n",
        "  curr_path = os.path.join(parent_path, cls)\n",
        "  print(curr_path)\n",
        "\n",
        "  img_path = os.path.join(curr_path, cls) + \"1\"\n",
        "  print(img_path)\n",
        "\n",
        "  for img in os.listdir(img_path):\n",
        "    if(img.endswith(\".png\")):\n",
        "      read_img = cv2.imread(os.path.join(img_path, img))\n",
        "      pre_processed = pre_process(read_img)\n",
        "      images_array.append(pre_processed)\n",
        "      targets_array.append(classes.index(cls))\n",
        "\n",
        "  print(f\"{cls} class loaded successfully\")"
      ]
    },
    {
      "cell_type": "code",
      "execution_count": 21,
      "metadata": {
        "id": "G4vnopbhT8pC"
      },
      "outputs": [],
      "source": [
        "descriptors = []\n",
        "sift = cv2.SIFT_create()\n",
        "\n",
        "max_len = 0\n",
        "\n",
        "for img in images_array:\n",
        "  _, desc = sift.detectAndCompute(img, None)\n",
        "  np_desc = np.array(desc).flatten()\n",
        "  # print(np_desc.shape)\n",
        "  descriptors.append(np_desc)\n",
        "  if len(np_desc) > max_len:\n",
        "    max_len = len(np_desc)\n",
        "\n",
        "descriptors = np.array(descriptors, dtype = object).flatten()\n",
        "# print(descriptors.shape)\n",
        "targets_array = np.array(targets_array, dtype = int).flatten()\n",
        "# print(targets_array.shape)"
      ]
    },
    {
      "cell_type": "code",
      "execution_count": 26,
      "metadata": {
        "id": "SwfC2HB1U-Lu"
      },
      "outputs": [
        {
          "name": "stdout",
          "output_type": "stream",
          "text": [
            "(48, 24064)\n",
            "[[0.0 0.0 0.0 ... 0.0 0.0 0.0]\n",
            " [0.0 0.0 0.0 ... 0.0 0.0 0.0]\n",
            " [0.0 4.0 37.0 ... 0.0 0.0 0.0]\n",
            " ...\n",
            " [0.0 0.0 0.0 ... 0.0 0.0 0.0]\n",
            " [0.0 0.0 0.0 ... 0.0 0.0 0.0]\n",
            " [0.0 0.0 0.0 ... 0.0 0.0 0.0]]\n"
          ]
        }
      ],
      "source": [
        "padded_descriptors = np.empty([descriptors.size, max_len], dtype = object)\n",
        "# print(padded_descriptors.shape)\n",
        "\n",
        "for i, descriptor in enumerate(descriptors):\n",
        "  padded = np.pad(descriptor, (0, max_len - len(descriptor))).flatten()\n",
        "  padded_descriptors[i] = padded\n",
        "\n",
        "# print(padded_descriptors.shape)\n",
        "# print(str(padded_descriptors))\n"
      ]
    },
    {
      "cell_type": "code",
      "execution_count": 23,
      "metadata": {
        "id": "dzwhdOs8n-QO"
      },
      "outputs": [],
      "source": [
        "X = padded_descriptors\n",
        "y = targets_array\n",
        "\n",
        "X_train, X_test, y_train, y_test = train_test_split(X, y, test_size = .3, random_state = 42)"
      ]
    },
    {
      "cell_type": "code",
      "execution_count": 24,
      "metadata": {
        "id": "-RvW2vgYpKD3"
      },
      "outputs": [
        {
          "data": {
            "text/html": [
              "<style>#sk-container-id-1 {color: black;background-color: white;}#sk-container-id-1 pre{padding: 0;}#sk-container-id-1 div.sk-toggleable {background-color: white;}#sk-container-id-1 label.sk-toggleable__label {cursor: pointer;display: block;width: 100%;margin-bottom: 0;padding: 0.3em;box-sizing: border-box;text-align: center;}#sk-container-id-1 label.sk-toggleable__label-arrow:before {content: \"▸\";float: left;margin-right: 0.25em;color: #696969;}#sk-container-id-1 label.sk-toggleable__label-arrow:hover:before {color: black;}#sk-container-id-1 div.sk-estimator:hover label.sk-toggleable__label-arrow:before {color: black;}#sk-container-id-1 div.sk-toggleable__content {max-height: 0;max-width: 0;overflow: hidden;text-align: left;background-color: #f0f8ff;}#sk-container-id-1 div.sk-toggleable__content pre {margin: 0.2em;color: black;border-radius: 0.25em;background-color: #f0f8ff;}#sk-container-id-1 input.sk-toggleable__control:checked~div.sk-toggleable__content {max-height: 200px;max-width: 100%;overflow: auto;}#sk-container-id-1 input.sk-toggleable__control:checked~label.sk-toggleable__label-arrow:before {content: \"▾\";}#sk-container-id-1 div.sk-estimator input.sk-toggleable__control:checked~label.sk-toggleable__label {background-color: #d4ebff;}#sk-container-id-1 div.sk-label input.sk-toggleable__control:checked~label.sk-toggleable__label {background-color: #d4ebff;}#sk-container-id-1 input.sk-hidden--visually {border: 0;clip: rect(1px 1px 1px 1px);clip: rect(1px, 1px, 1px, 1px);height: 1px;margin: -1px;overflow: hidden;padding: 0;position: absolute;width: 1px;}#sk-container-id-1 div.sk-estimator {font-family: monospace;background-color: #f0f8ff;border: 1px dotted black;border-radius: 0.25em;box-sizing: border-box;margin-bottom: 0.5em;}#sk-container-id-1 div.sk-estimator:hover {background-color: #d4ebff;}#sk-container-id-1 div.sk-parallel-item::after {content: \"\";width: 100%;border-bottom: 1px solid gray;flex-grow: 1;}#sk-container-id-1 div.sk-label:hover label.sk-toggleable__label {background-color: #d4ebff;}#sk-container-id-1 div.sk-serial::before {content: \"\";position: absolute;border-left: 1px solid gray;box-sizing: border-box;top: 0;bottom: 0;left: 50%;z-index: 0;}#sk-container-id-1 div.sk-serial {display: flex;flex-direction: column;align-items: center;background-color: white;padding-right: 0.2em;padding-left: 0.2em;position: relative;}#sk-container-id-1 div.sk-item {position: relative;z-index: 1;}#sk-container-id-1 div.sk-parallel {display: flex;align-items: stretch;justify-content: center;background-color: white;position: relative;}#sk-container-id-1 div.sk-item::before, #sk-container-id-1 div.sk-parallel-item::before {content: \"\";position: absolute;border-left: 1px solid gray;box-sizing: border-box;top: 0;bottom: 0;left: 50%;z-index: -1;}#sk-container-id-1 div.sk-parallel-item {display: flex;flex-direction: column;z-index: 1;position: relative;background-color: white;}#sk-container-id-1 div.sk-parallel-item:first-child::after {align-self: flex-end;width: 50%;}#sk-container-id-1 div.sk-parallel-item:last-child::after {align-self: flex-start;width: 50%;}#sk-container-id-1 div.sk-parallel-item:only-child::after {width: 0;}#sk-container-id-1 div.sk-dashed-wrapped {border: 1px dashed gray;margin: 0 0.4em 0.5em 0.4em;box-sizing: border-box;padding-bottom: 0.4em;background-color: white;}#sk-container-id-1 div.sk-label label {font-family: monospace;font-weight: bold;display: inline-block;line-height: 1.2em;}#sk-container-id-1 div.sk-label-container {text-align: center;}#sk-container-id-1 div.sk-container {/* jupyter's `normalize.less` sets `[hidden] { display: none; }` but bootstrap.min.css set `[hidden] { display: none !important; }` so we also need the `!important` here to be able to override the default hidden behavior on the sphinx rendered scikit-learn.org. See: https://github.com/scikit-learn/scikit-learn/issues/21755 */display: inline-block !important;position: relative;}#sk-container-id-1 div.sk-text-repr-fallback {display: none;}</style><div id=\"sk-container-id-1\" class=\"sk-top-container\"><div class=\"sk-text-repr-fallback\"><pre>SVC(kernel=&#x27;linear&#x27;, probability=True)</pre><b>In a Jupyter environment, please rerun this cell to show the HTML representation or trust the notebook. <br />On GitHub, the HTML representation is unable to render, please try loading this page with nbviewer.org.</b></div><div class=\"sk-container\" hidden><div class=\"sk-item\"><div class=\"sk-estimator sk-toggleable\"><input class=\"sk-toggleable__control sk-hidden--visually\" id=\"sk-estimator-id-1\" type=\"checkbox\" checked><label for=\"sk-estimator-id-1\" class=\"sk-toggleable__label sk-toggleable__label-arrow\">SVC</label><div class=\"sk-toggleable__content\"><pre>SVC(kernel=&#x27;linear&#x27;, probability=True)</pre></div></div></div></div></div>"
            ],
            "text/plain": [
              "SVC(kernel='linear', probability=True)"
            ]
          },
          "execution_count": 24,
          "metadata": {},
          "output_type": "execute_result"
        }
      ],
      "source": [
        "svm = SVC(kernel = \"linear\", probability = True)\n",
        "\n",
        "svm.fit(X_train, y_train)"
      ]
    },
    {
      "cell_type": "code",
      "execution_count": 25,
      "metadata": {
        "id": "ITeipQvpWQ4E"
      },
      "outputs": [
        {
          "name": "stdout",
          "output_type": "stream",
          "text": [
            "0.7333333333333333\n"
          ]
        }
      ],
      "source": [
        "y_pred = svm.predict(X_test)\n",
        "\n",
        "accuracy = accuracy_score(y_test, y_pred)\n",
        "print(accuracy)"
      ]
    }
  ],
  "metadata": {
    "colab": {
      "authorship_tag": "ABX9TyOFjRW51MnTzwJbDJOupKfH",
      "provenance": []
    },
    "kernelspec": {
      "display_name": "Python 3",
      "name": "python3"
    },
    "language_info": {
      "codemirror_mode": {
        "name": "ipython",
        "version": 3
      },
      "file_extension": ".py",
      "mimetype": "text/x-python",
      "name": "python",
      "nbconvert_exporter": "python",
      "pygments_lexer": "ipython3",
      "version": "3.11.5"
    }
  },
  "nbformat": 4,
  "nbformat_minor": 0
}
