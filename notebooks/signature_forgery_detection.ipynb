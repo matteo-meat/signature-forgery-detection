{
  "cells": [
    {
      "cell_type": "code",
      "execution_count": null,
      "metadata": {
        "id": "CNVDGBKMIp3F"
      },
      "outputs": [],
      "source": [
        "from google.colab import drive\n",
        "drive.mount('/content/drive')"
      ]
    },
    {
      "cell_type": "code",
      "execution_count": 3,
      "metadata": {
        "id": "wMTOqmRQL01i"
      },
      "outputs": [],
      "source": [
        "import cv2\n",
        "import os\n",
        "import matplotlib.pyplot as plt\n",
        "import numpy as np\n",
        "#from google.colab.patches import cv2_imshow\n",
        "\n",
        "from sklearn.svm import SVC\n",
        "from sklearn.model_selection import train_test_split\n",
        "from sklearn.metrics import accuracy_score"
      ]
    },
    {
      "cell_type": "code",
      "execution_count": 52,
      "metadata": {
        "id": "P3ICtv8pPiFO"
      },
      "outputs": [],
      "source": [
        "#parent_path = \"/content/drive/MyDrive/Colab projects/signature-forgery-detection/signatures\"\n",
        "parent_path = os.path.join(str(globals()['_dh'][0]).replace(\"notebooks\", \"\"), \"signatures\")\n",
        "classes = [\"full_forg\", \"full_org\"]"
      ]
    },
    {
      "cell_type": "code",
      "execution_count": 53,
      "metadata": {
        "id": "mlk-xAnG9W0D"
      },
      "outputs": [],
      "source": [
        "def pre_process(img):\n",
        "\n",
        "  gray = cv2.cvtColor(img, cv2.COLOR_BGR2GRAY)\n",
        "  blurred = cv2.GaussianBlur(gray, (5, 5), 0)\n",
        "  _ ,th_img = cv2.threshold(blurred,0,255,cv2.THRESH_BINARY + cv2.THRESH_OTSU)\n",
        "\n",
        "  return th_img"
      ]
    },
    {
      "cell_type": "code",
      "execution_count": 54,
      "metadata": {
        "id": "hbV1E3mPVq6D"
      },
      "outputs": [
        {
          "name": "stdout",
          "output_type": "stream",
          "text": [
            "Loading class full_forg\n",
            "/home/matteo/Repos/signature-forgery-detection/signatures/full_forg\n",
            "/home/matteo/Repos/signature-forgery-detection/signatures/full_forg/full_forg1\n",
            "full_forg class loaded successfully\n",
            "Loading class full_org\n",
            "/home/matteo/Repos/signature-forgery-detection/signatures/full_org\n",
            "/home/matteo/Repos/signature-forgery-detection/signatures/full_org/full_org1\n",
            "full_org class loaded successfully\n"
          ]
        }
      ],
      "source": [
        "images_array = []\n",
        "targets_array = []\n",
        "\n",
        "for cls in classes:\n",
        "\n",
        "  print(f\"Loading class {cls}\")\n",
        "  curr_path = os.path.join(parent_path, cls)\n",
        "  print(curr_path)\n",
        "\n",
        "  img_path = os.path.join(curr_path, cls) + \"1\"\n",
        "  print(img_path)\n",
        "\n",
        "  for img in os.listdir(img_path):\n",
        "    if(img.endswith(\".png\")):\n",
        "      read_img = cv2.imread(os.path.join(img_path, img))\n",
        "      pre_processed = pre_process(read_img)\n",
        "      images_array.append(pre_processed)\n",
        "      targets_array.append(classes.index(cls))\n",
        "\n",
        "  print(f\"{cls} class loaded successfully\")"
      ]
    },
    {
      "cell_type": "code",
      "execution_count": 21,
      "metadata": {
        "id": "G4vnopbhT8pC"
      },
      "outputs": [],
      "source": [
        "descriptors = []\n",
        "sift = cv2.SIFT_create()\n",
        "\n",
        "max_len = 0\n",
        "\n",
        "for img in images_array:\n",
        "  _, desc = sift.detectAndCompute(img, None)\n",
        "  np_desc = np.array(desc).flatten()\n",
        "  # print(np_desc.shape)\n",
        "  descriptors.append(np_desc)\n",
        "  if len(np_desc) > max_len:\n",
        "    max_len = len(np_desc)\n",
        "\n",
        "descriptors = np.array(descriptors, dtype = object).flatten()\n",
        "# print(descriptors.shape)\n",
        "targets_array = np.array(targets_array, dtype = int).flatten()\n",
        "# print(targets_array.shape)"
      ]
    },
    {
      "cell_type": "code",
      "execution_count": 26,
      "metadata": {
        "id": "SwfC2HB1U-Lu"
      },
      "outputs": [
        {
          "name": "stdout",
          "output_type": "stream",
          "text": [
            "(48, 24064)\n",
            "[[0.0 0.0 0.0 ... 0.0 0.0 0.0]\n",
            " [0.0 0.0 0.0 ... 0.0 0.0 0.0]\n",
            " [0.0 4.0 37.0 ... 0.0 0.0 0.0]\n",
            " ...\n",
            " [0.0 0.0 0.0 ... 0.0 0.0 0.0]\n",
            " [0.0 0.0 0.0 ... 0.0 0.0 0.0]\n",
            " [0.0 0.0 0.0 ... 0.0 0.0 0.0]]\n"
          ]
        }
      ],
      "source": [
        "padded_descriptors = np.empty([descriptors.size, max_len], dtype = object)\n",
        "# print(padded_descriptors.shape)\n",
        "\n",
        "for i, descriptor in enumerate(descriptors):\n",
        "  padded = np.pad(descriptor, (0, max_len - len(descriptor))).flatten()\n",
        "  padded_descriptors[i] = padded\n",
        "\n",
        "# print(padded_descriptors.shape)\n",
        "# print(str(padded_descriptors))\n"
      ]
    },
    {
      "cell_type": "code",
      "execution_count": 23,
      "metadata": {
        "id": "dzwhdOs8n-QO"
      },
      "outputs": [],
      "source": [
        "X = padded_descriptors\n",
        "y = targets_array\n",
        "\n",
        "X_train, X_test, y_train, y_test = train_test_split(X, y, test_size = .3, random_state = 42)"
      ]
    },
    {
      "cell_type": "code",
      "execution_count": 24,
      "metadata": {
        "id": "-RvW2vgYpKD3"
      },
      "outputs": [
        {
          "data": {
            "text/html": [
              "<style>#sk-container-id-1 {color: black;background-color: white;}#sk-container-id-1 pre{padding: 0;}#sk-container-id-1 div.sk-toggleable {background-color: white;}#sk-container-id-1 label.sk-toggleable__label {cursor: pointer;display: block;width: 100%;margin-bottom: 0;padding: 0.3em;box-sizing: border-box;text-align: center;}#sk-container-id-1 label.sk-toggleable__label-arrow:before {content: \"▸\";float: left;margin-right: 0.25em;color: #696969;}#sk-container-id-1 label.sk-toggleable__label-arrow:hover:before {color: black;}#sk-container-id-1 div.sk-estimator:hover label.sk-toggleable__label-arrow:before {color: black;}#sk-container-id-1 div.sk-toggleable__content {max-height: 0;max-width: 0;overflow: hidden;text-align: left;background-color: #f0f8ff;}#sk-container-id-1 div.sk-toggleable__content pre {margin: 0.2em;color: black;border-radius: 0.25em;background-color: #f0f8ff;}#sk-container-id-1 input.sk-toggleable__control:checked~div.sk-toggleable__content {max-height: 200px;max-width: 100%;overflow: auto;}#sk-container-id-1 input.sk-toggleable__control:checked~label.sk-toggleable__label-arrow:before {content: \"▾\";}#sk-container-id-1 div.sk-estimator input.sk-toggleable__control:checked~label.sk-toggleable__label {background-color: #d4ebff;}#sk-container-id-1 div.sk-label input.sk-toggleable__control:checked~label.sk-toggleable__label {background-color: #d4ebff;}#sk-container-id-1 input.sk-hidden--visually {border: 0;clip: rect(1px 1px 1px 1px);clip: rect(1px, 1px, 1px, 1px);height: 1px;margin: -1px;overflow: hidden;padding: 0;position: absolute;width: 1px;}#sk-container-id-1 div.sk-estimator {font-family: monospace;background-color: #f0f8ff;border: 1px dotted black;border-radius: 0.25em;box-sizing: border-box;margin-bottom: 0.5em;}#sk-container-id-1 div.sk-estimator:hover {background-color: #d4ebff;}#sk-container-id-1 div.sk-parallel-item::after {content: \"\";width: 100%;border-bottom: 1px solid gray;flex-grow: 1;}#sk-container-id-1 div.sk-label:hover label.sk-toggleable__label {background-color: #d4ebff;}#sk-container-id-1 div.sk-serial::before {content: \"\";position: absolute;border-left: 1px solid gray;box-sizing: border-box;top: 0;bottom: 0;left: 50%;z-index: 0;}#sk-container-id-1 div.sk-serial {display: flex;flex-direction: column;align-items: center;background-color: white;padding-right: 0.2em;padding-left: 0.2em;position: relative;}#sk-container-id-1 div.sk-item {position: relative;z-index: 1;}#sk-container-id-1 div.sk-parallel {display: flex;align-items: stretch;justify-content: center;background-color: white;position: relative;}#sk-container-id-1 div.sk-item::before, #sk-container-id-1 div.sk-parallel-item::before {content: \"\";position: absolute;border-left: 1px solid gray;box-sizing: border-box;top: 0;bottom: 0;left: 50%;z-index: -1;}#sk-container-id-1 div.sk-parallel-item {display: flex;flex-direction: column;z-index: 1;position: relative;background-color: white;}#sk-container-id-1 div.sk-parallel-item:first-child::after {align-self: flex-end;width: 50%;}#sk-container-id-1 div.sk-parallel-item:last-child::after {align-self: flex-start;width: 50%;}#sk-container-id-1 div.sk-parallel-item:only-child::after {width: 0;}#sk-container-id-1 div.sk-dashed-wrapped {border: 1px dashed gray;margin: 0 0.4em 0.5em 0.4em;box-sizing: border-box;padding-bottom: 0.4em;background-color: white;}#sk-container-id-1 div.sk-label label {font-family: monospace;font-weight: bold;display: inline-block;line-height: 1.2em;}#sk-container-id-1 div.sk-label-container {text-align: center;}#sk-container-id-1 div.sk-container {/* jupyter's `normalize.less` sets `[hidden] { display: none; }` but bootstrap.min.css set `[hidden] { display: none !important; }` so we also need the `!important` here to be able to override the default hidden behavior on the sphinx rendered scikit-learn.org. See: https://github.com/scikit-learn/scikit-learn/issues/21755 */display: inline-block !important;position: relative;}#sk-container-id-1 div.sk-text-repr-fallback {display: none;}</style><div id=\"sk-container-id-1\" class=\"sk-top-container\"><div class=\"sk-text-repr-fallback\"><pre>SVC(kernel=&#x27;linear&#x27;, probability=True)</pre><b>In a Jupyter environment, please rerun this cell to show the HTML representation or trust the notebook. <br />On GitHub, the HTML representation is unable to render, please try loading this page with nbviewer.org.</b></div><div class=\"sk-container\" hidden><div class=\"sk-item\"><div class=\"sk-estimator sk-toggleable\"><input class=\"sk-toggleable__control sk-hidden--visually\" id=\"sk-estimator-id-1\" type=\"checkbox\" checked><label for=\"sk-estimator-id-1\" class=\"sk-toggleable__label sk-toggleable__label-arrow\">SVC</label><div class=\"sk-toggleable__content\"><pre>SVC(kernel=&#x27;linear&#x27;, probability=True)</pre></div></div></div></div></div>"
            ],
            "text/plain": [
              "SVC(kernel='linear', probability=True)"
            ]
          },
          "execution_count": 24,
          "metadata": {},
          "output_type": "execute_result"
        }
      ],
      "source": [
        "svm = SVC(kernel = \"linear\", probability = True)\n",
        "\n",
        "svm.fit(X_train, y_train)"
      ]
    },
    {
      "cell_type": "code",
      "execution_count": 25,
      "metadata": {
        "id": "ITeipQvpWQ4E"
      },
      "outputs": [
        {
          "name": "stdout",
          "output_type": "stream",
          "text": [
            "0.7333333333333333\n"
          ]
        }
      ],
      "source": [
        "y_pred = svm.predict(X_test)\n",
        "\n",
        "accuracy = accuracy_score(y_test, y_pred)\n",
        "print(accuracy)"
      ]
    }
  ],
  "metadata": {
    "colab": {
      "authorship_tag": "ABX9TyOFjRW51MnTzwJbDJOupKfH",
      "provenance": []
    },
    "kernelspec": {
      "display_name": "Python 3",
      "name": "python3"
    },
    "language_info": {
      "codemirror_mode": {
        "name": "ipython",
        "version": 3
      },
      "file_extension": ".py",
      "mimetype": "text/x-python",
      "name": "python",
      "nbconvert_exporter": "python",
      "pygments_lexer": "ipython3",
      "version": "3.11.5"
    }
  },
  "nbformat": 4,
  "nbformat_minor": 0
}
