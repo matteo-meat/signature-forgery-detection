{
  "nbformat": 4,
  "nbformat_minor": 0,
  "metadata": {
    "colab": {
      "provenance": [],
      "authorship_tag": "ABX9TyOueitau8CibhHLghHsQ8V+"
    },
    "kernelspec": {
      "name": "python3",
      "display_name": "Python 3"
    },
    "language_info": {
      "name": "python"
    }
  },
  "cells": [
    {
      "cell_type": "code",
      "source": [
        "from google.colab import drive\n",
        "drive.mount('/content/drive')"
      ],
      "metadata": {
        "colab": {
          "base_uri": "https://localhost:8080/"
        },
        "id": "CNVDGBKMIp3F",
        "outputId": "25eb0a5a-3778-4e84-f3cc-7238f0b90840"
      },
      "execution_count": null,
      "outputs": [
        {
          "output_type": "stream",
          "name": "stdout",
          "text": [
            "Mounted at /content/drive\n"
          ]
        }
      ]
    },
    {
      "cell_type": "code",
      "source": [
        "import cv2\n",
        "import os\n",
        "import matplotlib.pyplot as plt\n",
        "import numpy as np\n",
        "from google.colab.patches import cv2_imshow\n",
        "\n",
        "from sklearn.svm import SVC\n",
        "from sklearn.model_selection import train_test_split\n",
        "from sklearn.metrics import accuracy_score"
      ],
      "metadata": {
        "id": "wMTOqmRQL01i"
      },
      "execution_count": null,
      "outputs": []
    },
    {
      "cell_type": "code",
      "source": [
        "parent_path = \"/content/drive/MyDrive/Colab projects/signature-forgery-detection/signatures\"\n",
        "classes = [\"full_forg\", \"full_org\"]"
      ],
      "metadata": {
        "id": "P3ICtv8pPiFO"
      },
      "execution_count": null,
      "outputs": []
    },
    {
      "cell_type": "code",
      "source": [
        "def center_img(img):\n",
        "\n",
        "  temp = img\n",
        "\n",
        "  for row in range (0, temp.shape[0]):\n",
        "    if 0 in th_img[row]:\n",
        "      temp = temp[row:, :]\n",
        "      break\n",
        "\n",
        "  for row in range(temp.shape[0] -1, -1, -1):\n",
        "    if 0 in temp[row]:\n",
        "      temp = temp[:row, :]\n",
        "      break\n",
        "\n",
        "  temp = np.transpose(temp)\n",
        "\n",
        "  for col in range (0, temp.shape[0]):\n",
        "    if 0 in temp[col]:\n",
        "      temp = temp[col:, :]\n",
        "      break\n",
        "\n",
        "  for row in range(temp.shape[0] -1, -1, -1):\n",
        "    if 0 in temp[row]:\n",
        "      temp = temp[:row, :]\n",
        "      break\n",
        "\n",
        "  return np.transpose(temp)\n",
        "\n",
        "\n",
        "def pre_process(img):\n",
        "\n",
        "  gray = cv2.cvtColor(img, cv2.COLOR_BGR2GRAY)\n",
        "  # cv2_imshow(gray)\n",
        "\n",
        "  # resized = cv2.resize(gray, (400, 300), interpolation = cv2.INTER_AREA)\n",
        "\n",
        "  blurred = cv2.GaussianBlur(gray, (5, 5), 0)\n",
        "  # cv2_imshow(blurred)\n",
        "\n",
        "  _ ,th_img = cv2.threshold(blurred,0,255,cv2.THRESH_BINARY + cv2.THRESH_OTSU)\n",
        "  # cv2_imshow(th_img)\n",
        "\n",
        "  # centered = center_img(th_img)\n",
        "  cv2_imshow(th_img)\n",
        "\n",
        "  return th_img"
      ],
      "metadata": {
        "id": "mlk-xAnG9W0D"
      },
      "execution_count": null,
      "outputs": []
    },
    {
      "cell_type": "code",
      "source": [
        "# contours, _ = cv2.findContours(th_img, cv2.RETR_TREE, cv2.CHAIN_APPROX_SIMPLE)\n",
        "# # cv2_imshow(cv2.drawContours(th_img, contours, -1, (0,255,0), 3))\n",
        "\n",
        "# M = cv2.moments(contours[0])\n",
        "\n",
        "# cx = int(M['m10']/M['m00'])\n",
        "# cy = int(M['m01']/M['m00'])\n",
        "\n",
        "\n",
        "# dx = th_img.shape[0] - cx\n",
        "# print(dx)\n",
        "# # dy = th_img[0][0] - cy\n",
        "\n",
        "# T = np.float32([\n",
        "# \t[1, 0, -dx],\n",
        "# \t[0, 1, 0]\n",
        "# ])\n",
        "\n",
        "# shifted = cv2.warpAffine(th_img, T, (th_img.shape[1], th_img.shape[0]))\n",
        "# cv2_imshow(shifted)\n",
        "\n",
        "# if dx >= 0:\n",
        "#   centered = shifted[:, :th_img.shape[1]-dx]\n",
        "#   cv2_imshow(centered)\n",
        "# else:\n",
        "#     centered = shifted[:, -dx:]\n",
        "#     cv2_imshow(centered)\n",
        "# print(centered.shape)\n",
        "\n",
        "\n",
        "# cv2_imshow(resized)\n",
        "# print(resized.shape)"
      ],
      "metadata": {
        "id": "bVZEb_5fu67U"
      },
      "execution_count": null,
      "outputs": []
    },
    {
      "cell_type": "code",
      "source": [
        "images_array = []\n",
        "targets_array = []\n",
        "\n",
        "for cls in classes:\n",
        "\n",
        "  print(f\"Loading class {cls}\")\n",
        "  curr_path = os.path.join(parent_path, cls)\n",
        "  print(curr_path)\n",
        "\n",
        "  img_path = os.path.join(curr_path, cls) + \"1\"\n",
        "  print(img_path)\n",
        "\n",
        "  for img in os.listdir(img_path):\n",
        "    if(img.endswith(\".png\")):\n",
        "      read_img = cv2.imread(os.path.join(img_path, img))\n",
        "      pre_processed = pre_process(read_img)\n",
        "      images_array.append(pre_processed)\n",
        "      targets_array.append(classes.index(cls))\n",
        "\n",
        "  print(f\"{cls} class loaded successfully\")"
      ],
      "metadata": {
        "id": "hbV1E3mPVq6D"
      },
      "execution_count": null,
      "outputs": []
    },
    {
      "cell_type": "code",
      "source": [
        "descriptors = []\n",
        "sift = cv2.SIFT_create()\n",
        "\n",
        "max_len = 0\n",
        "\n",
        "for img in images_array:\n",
        "  _, desc = sift.detectAndCompute(img, None)\n",
        "  np_desc = np.array(desc).flatten()\n",
        "  # print(np_desc.shape)\n",
        "  descriptors.append(np_desc)\n",
        "  if len(np_desc) > max_len:\n",
        "    max_len = len(np_desc)\n",
        "\n",
        "descriptors = np.array(descriptors, dtype = object).flatten()\n",
        "print(descriptors.shape)\n",
        "targets_array = np.array(targets_array, dtype = int).flatten()\n",
        "print(targets_array.shape)"
      ],
      "metadata": {
        "id": "G4vnopbhT8pC"
      },
      "execution_count": null,
      "outputs": []
    },
    {
      "cell_type": "code",
      "source": [
        "padded_descriptors = np.empty([descriptors.size, max_len], dtype = object)\n",
        "print(padded_descriptors.shape)\n",
        "\n",
        "for i, descriptor in enumerate(descriptors):\n",
        "  padded = np.pad(descriptor, (0, max_len - len(descriptor))).flatten()\n",
        "  padded_descriptors[i] = padded\n",
        "\n",
        "print(padded_descriptors.shape)\n",
        "print(str(padded_descriptors))\n"
      ],
      "metadata": {
        "id": "SwfC2HB1U-Lu"
      },
      "execution_count": null,
      "outputs": []
    },
    {
      "cell_type": "code",
      "source": [
        "X = padded_descriptors\n",
        "y = targets_array\n",
        "print(str(padded_descriptors))\n",
        "print(str(targets_array))\n",
        "\n",
        "X_train, X_test, y_train, y_test = train_test_split(X, y, test_size = .3, random_state = 42)\n",
        "\n",
        "print(len(X_train), len(y_train))"
      ],
      "metadata": {
        "id": "dzwhdOs8n-QO"
      },
      "execution_count": null,
      "outputs": []
    },
    {
      "cell_type": "code",
      "source": [
        "svm = SVC(kernel = \"linear\", probability = True)\n",
        "\n",
        "print(len(X_train), len(y_train))\n",
        "\n",
        "svm.fit(X_train, y_train)"
      ],
      "metadata": {
        "id": "-RvW2vgYpKD3"
      },
      "execution_count": null,
      "outputs": []
    },
    {
      "cell_type": "code",
      "source": [
        "y_pred = svm.predict(X_test)\n",
        "\n",
        "accuracy = accuracy_score(y_test, y_pred)\n",
        "print(accuracy)"
      ],
      "metadata": {
        "id": "ITeipQvpWQ4E"
      },
      "execution_count": null,
      "outputs": []
    }
  ]
}