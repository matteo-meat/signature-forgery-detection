{
  "cells": [
    {
      "cell_type": "code",
      "execution_count": 115,
      "metadata": {
        "id": "wMTOqmRQL01i"
      },
      "outputs": [],
      "source": [
        "import cv2\n",
        "import os\n",
        "import matplotlib.pyplot as plt\n",
        "import numpy as np\n",
        "import pandas as pd\n",
        "\n",
        "from sklearn.svm import SVC\n",
        "from sklearn.model_selection import train_test_split\n",
        "from sklearn.metrics import accuracy_score, classification_report\n",
        "from skimage.feature import hog\n",
        "\n",
        "from joblib import dump, load"
      ]
    },
    {
      "cell_type": "code",
      "execution_count": 116,
      "metadata": {
        "id": "P3ICtv8pPiFO"
      },
      "outputs": [],
      "source": [
        "signatures_path = os.path.join(str(globals()['_dh'][0]).replace(\"notebooks\", \"\"), \"signatures\")\n",
        "person_folders = sorted([d for d in os.listdir(signatures_path) if os.path.isdir(os.path.join(signatures_path, d))], key = lambda x: int(x.split(\"_\")[1]))"
      ]
    },
    {
      "cell_type": "code",
      "execution_count": 117,
      "metadata": {
        "id": "mlk-xAnG9W0D"
      },
      "outputs": [],
      "source": [
        "def pre_process(img_path):\n",
        "  \n",
        "  img = cv2.imread(img_path, cv2.IMREAD_GRAYSCALE)\n",
        "  img_resized = cv2.resize(img, (500, 300))\n",
        "  img_normalized = img_resized / 255\n",
        "\n",
        "  return img_normalized"
      ]
    },
    {
      "cell_type": "code",
      "execution_count": 119,
      "metadata": {},
      "outputs": [],
      "source": [
        "def extract_features(img):\n",
        "\n",
        "    hog_features = hog(img, orientations = 8, pixels_per_cell = (16,16), cells_per_block = (1,1), feature_vector = True)\n",
        "    \n",
        "    return hog_features"
      ]
    },
    {
      "cell_type": "code",
      "execution_count": 129,
      "metadata": {},
      "outputs": [],
      "source": [
        "# prepare the data to train the signature recognition SVM: for this model only the original signatures will be used\n",
        "def prepare_recognition_data():\n",
        "\n",
        "    # arrays to store the features and the personal labels\n",
        "    features = []\n",
        "    y_data = []\n",
        "\n",
        "    for person_folder in person_folders:\n",
        "        # array to store the features of all signatures of a person\n",
        "        individual_features = []\n",
        "        # iterate over all signatures of a person\n",
        "        for signature_file in sorted(os.listdir(os.path.join(signatures_path, person_folder)), key = lambda x: int(x.split(\".\")[0].split(\"_\")[2])):\n",
        "            if signature_file.startswith(\"original\") and signature_file.endswith(\".png\"):\n",
        "                image_path = os.path.join(signatures_path, person_folder, signature_file)\n",
        "                preprocessed_image = pre_process(image_path)\n",
        "                # concatenate all images's features into one array\n",
        "                individual_features = np.concatenate((individual_features, extract_features(preprocessed_image)))\n",
        "        \n",
        "        features.append(individual_features)\n",
        "        y_data.append(int(person_folder.split(\"_\")[1]))\n",
        "\n",
        "    X_data = [[float(feature) for feature in feature_vec] for feature_vec in features]\n",
        "    X = np.array(X_data)\n",
        "    y = np.array(y_data)\n",
        "\n",
        "    return X, y"
      ]
    },
    {
      "cell_type": "code",
      "execution_count": 130,
      "metadata": {},
      "outputs": [],
      "source": [
        "X, y = prepare_recognition_data()"
      ]
    },
    {
      "cell_type": "code",
      "execution_count": 131,
      "metadata": {},
      "outputs": [
        {
          "name": "stdout",
          "output_type": "stream",
          "text": [
            "[[0.36079837 0.36079837 0.36079837 ... 0.36867658 0.36867658 0.22032487]\n",
            " [0.38543391 0.33612732 0.38543391 ... 0.25476781 0.37716204 0.37716204]\n",
            " [0.38183283 0.38183283 0.38183283 ... 0.33019551 0.35676541 0.35676541]\n",
            " ...\n",
            " [0.35355339 0.35355339 0.35355339 ... 0.36366662 0.36366662 0.36366662]\n",
            " [0.35514234 0.35514234 0.35514234 ... 0.36914348 0.36914348 0.36914348]\n",
            " [0.35355339 0.35355339 0.35355339 ... 0.36067429 0.36067429 0.29899564]]\n",
            "(55, 107136)\n",
            "[ 1  2  3  4  5  6  7  8  9 10 11 12 13 14 15 16 17 18 19 20 21 22 23 24\n",
            " 25 26 27 28 29 30 31 32 33 34 35 36 37 38 39 40 41 42 43 44 45 46 47 48\n",
            " 49 50 51 52 53 54 55]\n",
            "(55,)\n"
          ]
        }
      ],
      "source": [
        "print(X)\n",
        "print(X.shape)\n",
        "print(y)\n",
        "print(y.shape)"
      ]
    },
    {
      "cell_type": "code",
      "execution_count": 132,
      "metadata": {},
      "outputs": [
        {
          "name": "stdout",
          "output_type": "stream",
          "text": [
            "(38, 107136)\n",
            "(17, 107136)\n",
            "(38,)\n",
            "(17,)\n"
          ]
        }
      ],
      "source": [
        "# SVM FOR SIGNATURE RECOGNITION\n",
        "\n",
        "X_train, X_test, y_train, y_test = train_test_split(X, y, test_size = 0.3, random_state = 42)\n",
        "print(X_train.shape)\n",
        "print(X_test.shape)\n",
        "print(y_train.shape)\n",
        "print(y_test.shape)\n"
      ]
    },
    {
      "cell_type": "code",
      "execution_count": 133,
      "metadata": {},
      "outputs": [
        {
          "data": {
            "text/html": [
              "<style>#sk-container-id-2 {color: black;background-color: white;}#sk-container-id-2 pre{padding: 0;}#sk-container-id-2 div.sk-toggleable {background-color: white;}#sk-container-id-2 label.sk-toggleable__label {cursor: pointer;display: block;width: 100%;margin-bottom: 0;padding: 0.3em;box-sizing: border-box;text-align: center;}#sk-container-id-2 label.sk-toggleable__label-arrow:before {content: \"▸\";float: left;margin-right: 0.25em;color: #696969;}#sk-container-id-2 label.sk-toggleable__label-arrow:hover:before {color: black;}#sk-container-id-2 div.sk-estimator:hover label.sk-toggleable__label-arrow:before {color: black;}#sk-container-id-2 div.sk-toggleable__content {max-height: 0;max-width: 0;overflow: hidden;text-align: left;background-color: #f0f8ff;}#sk-container-id-2 div.sk-toggleable__content pre {margin: 0.2em;color: black;border-radius: 0.25em;background-color: #f0f8ff;}#sk-container-id-2 input.sk-toggleable__control:checked~div.sk-toggleable__content {max-height: 200px;max-width: 100%;overflow: auto;}#sk-container-id-2 input.sk-toggleable__control:checked~label.sk-toggleable__label-arrow:before {content: \"▾\";}#sk-container-id-2 div.sk-estimator input.sk-toggleable__control:checked~label.sk-toggleable__label {background-color: #d4ebff;}#sk-container-id-2 div.sk-label input.sk-toggleable__control:checked~label.sk-toggleable__label {background-color: #d4ebff;}#sk-container-id-2 input.sk-hidden--visually {border: 0;clip: rect(1px 1px 1px 1px);clip: rect(1px, 1px, 1px, 1px);height: 1px;margin: -1px;overflow: hidden;padding: 0;position: absolute;width: 1px;}#sk-container-id-2 div.sk-estimator {font-family: monospace;background-color: #f0f8ff;border: 1px dotted black;border-radius: 0.25em;box-sizing: border-box;margin-bottom: 0.5em;}#sk-container-id-2 div.sk-estimator:hover {background-color: #d4ebff;}#sk-container-id-2 div.sk-parallel-item::after {content: \"\";width: 100%;border-bottom: 1px solid gray;flex-grow: 1;}#sk-container-id-2 div.sk-label:hover label.sk-toggleable__label {background-color: #d4ebff;}#sk-container-id-2 div.sk-serial::before {content: \"\";position: absolute;border-left: 1px solid gray;box-sizing: border-box;top: 0;bottom: 0;left: 50%;z-index: 0;}#sk-container-id-2 div.sk-serial {display: flex;flex-direction: column;align-items: center;background-color: white;padding-right: 0.2em;padding-left: 0.2em;position: relative;}#sk-container-id-2 div.sk-item {position: relative;z-index: 1;}#sk-container-id-2 div.sk-parallel {display: flex;align-items: stretch;justify-content: center;background-color: white;position: relative;}#sk-container-id-2 div.sk-item::before, #sk-container-id-2 div.sk-parallel-item::before {content: \"\";position: absolute;border-left: 1px solid gray;box-sizing: border-box;top: 0;bottom: 0;left: 50%;z-index: -1;}#sk-container-id-2 div.sk-parallel-item {display: flex;flex-direction: column;z-index: 1;position: relative;background-color: white;}#sk-container-id-2 div.sk-parallel-item:first-child::after {align-self: flex-end;width: 50%;}#sk-container-id-2 div.sk-parallel-item:last-child::after {align-self: flex-start;width: 50%;}#sk-container-id-2 div.sk-parallel-item:only-child::after {width: 0;}#sk-container-id-2 div.sk-dashed-wrapped {border: 1px dashed gray;margin: 0 0.4em 0.5em 0.4em;box-sizing: border-box;padding-bottom: 0.4em;background-color: white;}#sk-container-id-2 div.sk-label label {font-family: monospace;font-weight: bold;display: inline-block;line-height: 1.2em;}#sk-container-id-2 div.sk-label-container {text-align: center;}#sk-container-id-2 div.sk-container {/* jupyter's `normalize.less` sets `[hidden] { display: none; }` but bootstrap.min.css set `[hidden] { display: none !important; }` so we also need the `!important` here to be able to override the default hidden behavior on the sphinx rendered scikit-learn.org. See: https://github.com/scikit-learn/scikit-learn/issues/21755 */display: inline-block !important;position: relative;}#sk-container-id-2 div.sk-text-repr-fallback {display: none;}</style><div id=\"sk-container-id-2\" class=\"sk-top-container\"><div class=\"sk-text-repr-fallback\"><pre>SVC()</pre><b>In a Jupyter environment, please rerun this cell to show the HTML representation or trust the notebook. <br />On GitHub, the HTML representation is unable to render, please try loading this page with nbviewer.org.</b></div><div class=\"sk-container\" hidden><div class=\"sk-item\"><div class=\"sk-estimator sk-toggleable\"><input class=\"sk-toggleable__control sk-hidden--visually\" id=\"sk-estimator-id-2\" type=\"checkbox\" checked><label for=\"sk-estimator-id-2\" class=\"sk-toggleable__label sk-toggleable__label-arrow\">SVC</label><div class=\"sk-toggleable__content\"><pre>SVC()</pre></div></div></div></div></div>"
            ],
            "text/plain": [
              "SVC()"
            ]
          },
          "execution_count": 133,
          "metadata": {},
          "output_type": "execute_result"
        }
      ],
      "source": [
        "svm_recognition = SVC()\n",
        "svm_recognition.fit(X_train, y_train)"
      ]
    },
    {
      "cell_type": "code",
      "execution_count": 135,
      "metadata": {},
      "outputs": [
        {
          "name": "stdout",
          "output_type": "stream",
          "text": [
            "              precision    recall  f1-score   support\n",
            "\n",
            "           4       0.00      0.00      0.00       1.0\n",
            "           6       0.00      0.00      0.00       1.0\n",
            "           7       0.00      0.00      0.00       1.0\n",
            "           9       0.00      0.00      0.00       1.0\n",
            "          13       0.00      0.00      0.00       1.0\n",
            "          14       0.00      0.00      0.00       1.0\n",
            "          16       0.00      0.00      0.00       0.0\n",
            "          18       0.00      0.00      0.00       1.0\n",
            "          20       0.00      0.00      0.00       1.0\n",
            "          27       0.00      0.00      0.00       1.0\n",
            "          32       0.00      0.00      0.00       1.0\n",
            "          33       0.00      0.00      0.00       1.0\n",
            "          34       0.00      0.00      0.00       1.0\n",
            "          35       0.00      0.00      0.00       1.0\n",
            "          42       0.00      0.00      0.00       1.0\n",
            "          44       0.00      0.00      0.00       1.0\n",
            "          50       0.00      0.00      0.00       1.0\n",
            "          52       0.00      0.00      0.00       0.0\n",
            "          53       0.00      0.00      0.00       1.0\n",
            "\n",
            "    accuracy                           0.00      17.0\n",
            "   macro avg       0.00      0.00      0.00      17.0\n",
            "weighted avg       0.00      0.00      0.00      17.0\n",
            "\n",
            "0.0\n"
          ]
        },
        {
          "name": "stderr",
          "output_type": "stream",
          "text": [
            "/home/matteo/anaconda3/envs/signature-forgery-detection/lib/python3.11/site-packages/sklearn/metrics/_classification.py:1344: UndefinedMetricWarning: Precision and F-score are ill-defined and being set to 0.0 in labels with no predicted samples. Use `zero_division` parameter to control this behavior.\n",
            "  _warn_prf(average, modifier, msg_start, len(result))\n",
            "/home/matteo/anaconda3/envs/signature-forgery-detection/lib/python3.11/site-packages/sklearn/metrics/_classification.py:1344: UndefinedMetricWarning: Recall and F-score are ill-defined and being set to 0.0 in labels with no true samples. Use `zero_division` parameter to control this behavior.\n",
            "  _warn_prf(average, modifier, msg_start, len(result))\n",
            "/home/matteo/anaconda3/envs/signature-forgery-detection/lib/python3.11/site-packages/sklearn/metrics/_classification.py:1344: UndefinedMetricWarning: Precision and F-score are ill-defined and being set to 0.0 in labels with no predicted samples. Use `zero_division` parameter to control this behavior.\n",
            "  _warn_prf(average, modifier, msg_start, len(result))\n",
            "/home/matteo/anaconda3/envs/signature-forgery-detection/lib/python3.11/site-packages/sklearn/metrics/_classification.py:1344: UndefinedMetricWarning: Recall and F-score are ill-defined and being set to 0.0 in labels with no true samples. Use `zero_division` parameter to control this behavior.\n",
            "  _warn_prf(average, modifier, msg_start, len(result))\n",
            "/home/matteo/anaconda3/envs/signature-forgery-detection/lib/python3.11/site-packages/sklearn/metrics/_classification.py:1344: UndefinedMetricWarning: Precision and F-score are ill-defined and being set to 0.0 in labels with no predicted samples. Use `zero_division` parameter to control this behavior.\n",
            "  _warn_prf(average, modifier, msg_start, len(result))\n",
            "/home/matteo/anaconda3/envs/signature-forgery-detection/lib/python3.11/site-packages/sklearn/metrics/_classification.py:1344: UndefinedMetricWarning: Recall and F-score are ill-defined and being set to 0.0 in labels with no true samples. Use `zero_division` parameter to control this behavior.\n",
            "  _warn_prf(average, modifier, msg_start, len(result))\n"
          ]
        },
        {
          "data": {
            "text/plain": [
              "['../models/svm_recognition.joblib']"
            ]
          },
          "execution_count": 135,
          "metadata": {},
          "output_type": "execute_result"
        }
      ],
      "source": [
        "\n",
        "y_pred = svm_recognition.predict(X_test)\n",
        "print(classification_report(y_test, y_pred))\n",
        "print(accuracy_score(y_test, y_pred))\n",
        "dump(svm_recognition, \"../models/svm_recognition.joblib\")\n"
      ]
    },
    {
      "cell_type": "code",
      "execution_count": null,
      "metadata": {},
      "outputs": [],
      "source": [
        "# SVM FOR SIGNATURE VERIFICATION\n",
        "\n",
        "# TO-DO\n"
      ]
    }
  ],
  "metadata": {
    "colab": {
      "authorship_tag": "ABX9TyOFjRW51MnTzwJbDJOupKfH",
      "provenance": []
    },
    "kernelspec": {
      "display_name": "Python 3",
      "name": "python3"
    },
    "language_info": {
      "codemirror_mode": {
        "name": "ipython",
        "version": 3
      },
      "file_extension": ".py",
      "mimetype": "text/x-python",
      "name": "python",
      "nbconvert_exporter": "python",
      "pygments_lexer": "ipython3",
      "version": "3.11.5"
    }
  },
  "nbformat": 4,
  "nbformat_minor": 0
}
